{
  "cells": [
    {
      "cell_type": "markdown",
      "metadata": {
        "id": "view-in-github",
        "colab_type": "text"
      },
      "source": [
        "<a href=\"https://colab.research.google.com/github/gandesirijugalkishore/Learning/blob/main/DATA_MIGRATION.ipynb\" target=\"_parent\"><img src=\"https://colab.research.google.com/assets/colab-badge.svg\" alt=\"Open In Colab\"/></a>"
      ]
    },
    {
      "cell_type": "code",
      "execution_count": null,
      "metadata": {
        "id": "Afsj4-kuTXCM"
      },
      "outputs": [],
      "source": [
        "from pyspark.sql import SparkSession\n",
        "from pyspark.sql.types import IntegerType, DateType, StringType\n",
        "from pyspark.sql.functions import col, unix_timestamp\n",
        "from pyspark.sql import functions as f\n",
        "import time\n",
        "\n",
        "def createSparkSession():\n",
        "    spark_session = SparkSession.builder.appName(appname).config('spark.jars', 'spark-avro_2.11-2.4.4.jar').getOrCreate()\n",
        "    \n",
        "    return spark_session\n",
        "\n",
        "def readDataFromOracleDB(spark_session,dbtable):\n",
        "    driver = \"oracle.jdbc.OracleDriver\"\n",
        "    host = '......'\n",
        "    port = 1234\n",
        "    service_name = '.....'\n",
        "    url = f\"jdbc:oracle:thin:@//{host}:{port}/{service_name}\"\n",
        "    #print(url)\n",
        "    user = \"......\"\n",
        "#     password = \".......\"\n",
        "    password = '........'\n",
        "    df = spark_session.read.format(\"jdbc\")\\\n",
        "                        .option(\"url\", url)\\\n",
        "                        .option(\"driver\", driver)\\\n",
        "                        .option(\"dbtable\", dbtable)\\\n",
        "                        .option(\"user\", user)\\\n",
        "                        .option(\"password\", password)\\\n",
        "                        .option(\"fetchsize\", \"20000\")\\\n",
        "                        .load()\n",
        "    return df\n",
        "\n",
        "def write_to_hadoop(df, path, form='parquet'):\n",
        "    df.write.format(form).mode('overwrite').save(path)\n",
        "    \n",
        "def read_from_hadoop(path, form='parquet'):\n",
        "    return spark.read.format(form).option('header', 'true').load(path)\n",
        "\n",
        "\n",
        "\n",
        "if __name__=='__main__':\n",
        "    appname = \"Oracle to Hadoop\"\n",
        "    #Create spark session:\n",
        "    spark = createSparkSession()\n",
        "   \n",
        "    #Read data from Oracle DB\n",
        "    read_table_name = '...........'\n",
        "    dbtable = \"\"\"(SELECT *\n",
        "                  \n",
        "                FROM TABLE_NAME\n",
        "               \n",
        "                )\n",
        "    \"\"\" \n",
        "    df = readDataFromOracleDB(spark,dbtable)\n",
        "    base_path= ['hdfs://..........._avro','hdfs:......................_avro']\n",
        "    \n",
        "#     ###CSV\n",
        "#     form = 'csv'\n",
        "#     path = f'{base_path}_{form}'\n",
        "#     write_to_hadoop(df,path,form)\n",
        "        \n",
        "#     ###Parquet\n",
        "#     form = 'parquet'\n",
        "#     path = f'{base_path}_{form}'\n",
        "#     write_to_hadoop(df,path,form)\n",
        "        \n",
        "    ###Aro\n",
        "    form = 'avro'\n",
        "    path = f'{base_path}_{form}'\n",
        "#     write_to_hadoop(df,path,form)\n",
        "     \n"
      ]
    }
  ],
  "metadata": {
    "kernelspec": {
      "display_name": "Python 3",
      "language": "python",
      "name": "python3"
    },
    "language_info": {
      "codemirror_mode": {
        "name": "ipython",
        "version": 3
      },
      "file_extension": ".py",
      "mimetype": "text/x-python",
      "name": "python",
      "nbconvert_exporter": "python",
      "pygments_lexer": "ipython3",
      "version": "3.7.1"
    },
    "colab": {
      "name": "all formats data migation.ipynb",
      "provenance": [],
      "include_colab_link": true
    }
  },
  "nbformat": 4,
  "nbformat_minor": 0
}